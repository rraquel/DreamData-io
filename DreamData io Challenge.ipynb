{
 "cells": [
  {
   "cell_type": "code",
   "execution_count": 9,
   "metadata": {},
   "outputs": [
    {
     "data": {
      "text/plain": [
       "' Procedure:\\n1. load and explore data\\n2. how to define and unite the journey for one costumer\\n3. clean data: drop sessions after user has converted?\\n4. work with a fraction of the dataset\\n5. build dependent variable\\n6. build dummy variables for categorical data\\n7. compare different techniques and sampeling methods\\n8. build final cross validated predictive model\\n'"
      ]
     },
     "execution_count": 9,
     "metadata": {},
     "output_type": "execute_result"
    }
   ],
   "source": [
    "#### DreamData.io \n",
    "\n",
    "\"\"\"Challenge: The task of this code challenge is to predict if a conversion (e.g. form\n",
    "submission) would happen in or right after each session in the whole customer\n",
    "journey. A conversion in this context means a user signs up so that the company\n",
    "gets his contact information. A whole customer journey might contain one or\n",
    "multiple sessions.\"\"\"\n",
    "\n",
    "\"\"\" Procedure:\n",
    "1. load and explore data\n",
    "2. how to define and unite the journey for one costumer?\n",
    "3. clean data: drop sessions after user has converted?\n",
    "4. work with a fraction of the dataset\n",
    "5. build dependent variable\n",
    "6. build dummy variables for categorical data\n",
    "7. compare different techniques and sampeling methods\n",
    "8. build final cross validated predictive model\n",
    "\n",
    "class imbalance is too big for sampling:\n",
    "next steps would be to clean the dataset further, to build journeys for each costumer\n",
    "and to discuss which other problems may exist inherent to the type of data and how these can be adressed\n",
    "\n",
    "After that, it would be interesting to look at other techniques, more specific to this kind of problem: maybe markov-chain models etc.\n",
    "\n",
    "\"\"\"\n",
    "\n",
    "\n"
   ]
  },
  {
   "cell_type": "code",
   "execution_count": 36,
   "metadata": {},
   "outputs": [],
   "source": [
    "import pandas as pd\n",
    "import numpy as np\n",
    "import datetime\n",
    "import sklearn\n",
    "import matplotlib.pyplot as plt\n",
    "import seaborn as sns\n",
    "from sklearn.preprocessing import StandardScaler\n",
    "from sklearn.preprocessing import LabelEncoder\n",
    "from sklearn.preprocessing import StandardScaler\n",
    "from sklearn.metrics import classification_report\n",
    "from sklearn.linear_model import LogisticRegression\n",
    "from sklearn.svm import LinearSVC\n",
    "from sklearn.tree import DecisionTreeClassifier\n",
    "from sklearn.ensemble import RandomForestClassifier\n",
    "from sklearn.ensemble import GradientBoostingClassifier\n",
    "from sklearn.neural_network import MLPClassifier\n",
    "from sklearn.model_selection import train_test_split\n",
    "from sklearn.model_selection import GridSearchCV\n",
    "from sklearn.metrics import confusion_matrix\n",
    "%matplotlib inline"
   ]
  },
  {
   "cell_type": "code",
   "execution_count": 11,
   "metadata": {},
   "outputs": [
    {
     "data": {
      "text/plain": [
       "False    2366475\n",
       "True       39679\n",
       "Name: conversion, dtype: int64"
      ]
     },
     "execution_count": 11,
     "metadata": {},
     "output_type": "execute_result"
    }
   ],
   "source": [
    "### Setup\n",
    "\n",
    "# load data into pd\n",
    "df_original = pd.read_csv(\"training_data.csv\") \n",
    "\n",
    "df_original.shape\n",
    "\n",
    "#df_original.isna().sum()\n",
    "\n",
    "\n",
    "# preview the first 5 lines of data \n",
    "#df.head()\n",
    "\n",
    "#Column types\n",
    "#df_original.dtypes\n",
    "\n",
    "#changing data types takes to long, because the dataset is big. Therefore we will work with a sample first\n",
    "#pd.to_datetime(df_original.conversion_time)\n",
    "#pd.to_datetime(df_original.session_end_time)\n",
    "#pd.to_datetime(df_original.session_start_time)\n",
    "#pd.to_datetime(df_original.later_session_start_time)\n",
    "\n",
    "# Conversion counts\n",
    "df_original['conversion'].value_counts()\n",
    "\n",
    "#check that there is only true or false in the conversion counts\n",
    "#df.conversion.unique()"
   ]
  },
  {
   "cell_type": "code",
   "execution_count": 12,
   "metadata": {},
   "outputs": [
    {
     "data": {
      "text/plain": [
       "False    591785\n",
       "True       9753\n",
       "Name: conversion, dtype: int64"
      ]
     },
     "execution_count": 12,
     "metadata": {},
     "output_type": "execute_result"
    }
   ],
   "source": [
    "#extract a random sample to work with 25% of the data only - otherwise the processes take too long\n",
    "df=df_original.sample(frac=0.25, random_state=1)\n",
    "# Conversion counts\n",
    "df['conversion'].value_counts()\n"
   ]
  },
  {
   "cell_type": "code",
   "execution_count": 13,
   "metadata": {},
   "outputs": [
    {
     "data": {
      "text/plain": [
       "(597784, 19)"
      ]
     },
     "execution_count": 13,
     "metadata": {},
     "output_type": "execute_result"
    }
   ],
   "source": [
    "# take each user with conversion=true and drop all the sessions after the conversion, as they are not relevant instances for solving the prediction problem\n",
    "# takes way to long if it is done beofer sampling.....\n",
    "user_ids_conv=df['user_id']\n",
    "df_conv=df[df['conversion']==True]\n",
    "user_ids_conv=df_conv['user_id']\n",
    "\n",
    "\n",
    "for user in user_ids_conv:\n",
    "    df.drop(df[(df['user_id']== user) & (df['conversion_time'] < df['session_start_time'])].index, inplace = True)\n",
    "df.shape"
   ]
  },
  {
   "cell_type": "code",
   "execution_count": 15,
   "metadata": {},
   "outputs": [
    {
     "data": {
      "text/plain": [
       "(597784, 19)"
      ]
     },
     "execution_count": 15,
     "metadata": {},
     "output_type": "execute_result"
    }
   ],
   "source": [
    "#save the data into csv, to be loaded directly\n",
    "#df.to_csv(r'training_data_sampled_journey.csv', index = False)\n",
    "df_original = pd.read_csv(\"training_data_sampled_journey.csv\") \n",
    "df_original.shape"
   ]
  },
  {
   "cell_type": "code",
   "execution_count": 16,
   "metadata": {},
   "outputs": [],
   "source": [
    "#look at duplicate user_id s\n",
    "#dupl_user = df.pivot_table(index=['user_id'], aggfunc='size')\n",
    "#print (dupl_user)\n",
    "\n",
    "#********************* look into how to compose one journey which may contain multiple sessions************************"
   ]
  },
  {
   "cell_type": "code",
   "execution_count": 17,
   "metadata": {},
   "outputs": [
    {
     "data": {
      "text/plain": [
       "conversion                      bool\n",
       "conversion_time               object\n",
       "user_id                        int64\n",
       "sessionId                      int64\n",
       "minutes_since_last_session     int64\n",
       "event                         object\n",
       "browser                       object\n",
       "os                            object\n",
       "device                        object\n",
       "channel                       object\n",
       "session_end_time              object\n",
       "session_start_time            object\n",
       "event_count                    int64\n",
       "country                       object\n",
       "session_duration_seconds       int64\n",
       "later_session_start_time      object\n",
       "region                        object\n",
       "sub_region                    object\n",
       "source                        object\n",
       "dtype: object"
      ]
     },
     "execution_count": 17,
     "metadata": {},
     "output_type": "execute_result"
    }
   ],
   "source": [
    "#tpes of columns\n",
    "df.dtypes"
   ]
  },
  {
   "cell_type": "code",
   "execution_count": 18,
   "metadata": {},
   "outputs": [],
   "source": [
    "#create a new column with the dependent variable\n",
    "df['dependent_variable'] = 0"
   ]
  },
  {
   "cell_type": "code",
   "execution_count": 19,
   "metadata": {},
   "outputs": [
    {
     "name": "stdout",
     "output_type": "stream",
     "text": [
      "count    597784.000000\n",
      "mean       3507.106256\n",
      "std       16735.994541\n",
      "min           0.000000\n",
      "25%           0.000000\n",
      "50%           0.000000\n",
      "75%          56.000000\n",
      "max      369575.000000\n",
      "Name: minutes_since_last_session, dtype: float64\n"
     ]
    },
    {
     "data": {
      "text/plain": [
       "<matplotlib.axes._subplots.AxesSubplot at 0x183273f6c08>"
      ]
     },
     "execution_count": 19,
     "metadata": {},
     "output_type": "execute_result"
    },
    {
     "data": {
      "image/png": "[encoded data removed]",
      "text/plain": [
       "<Figure size 432x288 with 1 Axes>"
      ]
     },
     "metadata": {
      "needs_background": "light"
     },
     "output_type": "display_data"
    }
   ],
   "source": [
    "\"\"\"#look if conversion_time is after end of session\n",
    "#create a new column for conversion after session with time delta\n",
    "df['conversion_after_end'] = pd.to_datetime(df['conversion_time']) - pd.to_datetime(df['session_end_time'])\n",
    "#df['conversion_after_end'].value_counts()\n",
    "df.head(100)\n",
    "\n",
    "--> can use minutes_since_last_session!!!\"\"\"\n",
    "print(df['minutes_since_last_session'].describe())\n",
    "sns.distplot(df['minutes_since_last_session'])\n"
   ]
  },
  {
   "cell_type": "code",
   "execution_count": 20,
   "metadata": {},
   "outputs": [
    {
     "data": {
      "text/plain": [
       "0    591785\n",
       "1      5999\n",
       "Name: dependent_variable, dtype: int64"
      ]
     },
     "execution_count": 20,
     "metadata": {},
     "output_type": "execute_result"
    }
   ],
   "source": [
    "#insert dependent_variable value 1 if the conversion occcurred within the session\n",
    "df.loc[(df['conversion_time'] < (df['session_end_time'])) & (df['conversion_time'] > df['session_start_time']), 'dependent_variable'] = 1\n",
    "df['dependent_variable'].value_counts()"
   ]
  },
  {
   "cell_type": "code",
   "execution_count": 21,
   "metadata": {},
   "outputs": [
    {
     "data": {
      "text/plain": [
       "0    591785\n",
       "1      5999\n",
       "Name: dependent_variable, dtype: int64"
      ]
     },
     "execution_count": 21,
     "metadata": {},
     "output_type": "execute_result"
    }
   ],
   "source": [
    "#insert dependent_variable value 1 if the conversion occcurred right after the end of the session (max. 30 minutes)\n",
    "df.loc[(df['minutes_since_last_session'] < 59) & (df['conversion'] == True), 'dependent_variable'] = 1\n",
    "df['dependent_variable'].value_counts()\n",
    "# positive exaples ~1.5%\n",
    "\n",
    "#### THE DATASET IS HIGHLY UNBALANCED "
   ]
  },
  {
   "cell_type": "code",
   "execution_count": 43,
   "metadata": {},
   "outputs": [
    {
     "data": {
      "text/plain": [
       "<matplotlib.axes._subplots.AxesSubplot at 0x18354a5dc08>"
      ]
     },
     "execution_count": 43,
     "metadata": {},
     "output_type": "execute_result"
    },
    {
     "data": {
      "image/png": "[encoded data removed]",
      "text/plain": [
       "<Figure size 432x288 with 1 Axes>"
      ]
     },
     "metadata": {
      "needs_background": "light"
     },
     "output_type": "display_data"
    }
   ],
   "source": [
    "#visualize class distribution of dependent variable --> highly imbalanced data\n",
    "sns.countplot(df['dependent_variable'])"
   ]
  },
  {
   "cell_type": "code",
   "execution_count": 23,
   "metadata": {},
   "outputs": [
    {
     "name": "stdout",
     "output_type": "stream",
     "text": [
      "['conversion' 'conversion_time' 'user_id' 'sessionId'\n",
      " 'minutes_since_last_session' 'event' 'browser' 'os' 'device' 'channel'\n",
      " 'session_end_time' 'session_start_time' 'event_count' 'country'\n",
      " 'session_duration_seconds' 'later_session_start_time' 'region'\n",
      " 'sub_region' 'source' 'dependent_variable']\n"
     ]
    }
   ],
   "source": [
    "print(df.columns.values)"
   ]
  },
  {
   "cell_type": "code",
   "execution_count": 24,
   "metadata": {},
   "outputs": [
    {
     "data": {
      "text/html": [
       "<div>\n",
       "<style scoped>\n",
       "    .dataframe tbody tr th:only-of-type {\n",
       "        vertical-align: middle;\n",
       "    }\n",
       "\n",
       "    .dataframe tbody tr th {\n",
       "        vertical-align: top;\n",
       "    }\n",
       "\n",
       "    .dataframe thead th {\n",
       "        text-align: right;\n",
       "    }\n",
       "</style>\n",
       "<table border=\"1\" class=\"dataframe\">\n",
       "  <thead>\n",
       "    <tr style=\"text-align: right;\">\n",
       "      <th></th>\n",
       "      <th>dependent_variable</th>\n",
       "      <th>event</th>\n",
       "      <th>browser</th>\n",
       "      <th>os</th>\n",
       "      <th>device</th>\n",
       "      <th>channel</th>\n",
       "      <th>minutes_since_last_session</th>\n",
       "      <th>event_count</th>\n",
       "      <th>session_duration_seconds</th>\n",
       "      <th>source</th>\n",
       "    </tr>\n",
       "  </thead>\n",
       "  <tbody>\n",
       "    <tr>\n",
       "      <th>416985</th>\n",
       "      <td>0</td>\n",
       "      <td>page_view</td>\n",
       "      <td>Chrome</td>\n",
       "      <td>Windows</td>\n",
       "      <td>DESKTOP</td>\n",
       "      <td>direct</td>\n",
       "      <td>4</td>\n",
       "      <td>20</td>\n",
       "      <td>541</td>\n",
       "      <td>direct</td>\n",
       "    </tr>\n",
       "    <tr>\n",
       "      <th>172060</th>\n",
       "      <td>0</td>\n",
       "      <td>page_view</td>\n",
       "      <td>Chrome</td>\n",
       "      <td>Android</td>\n",
       "      <td>TABLET</td>\n",
       "      <td>Paid</td>\n",
       "      <td>20160</td>\n",
       "      <td>1</td>\n",
       "      <td>0</td>\n",
       "      <td>Google</td>\n",
       "    </tr>\n",
       "    <tr>\n",
       "      <th>2309822</th>\n",
       "      <td>0</td>\n",
       "      <td>page_view</td>\n",
       "      <td>Chrome</td>\n",
       "      <td>Windows</td>\n",
       "      <td>DESKTOP</td>\n",
       "      <td>referrer</td>\n",
       "      <td>121</td>\n",
       "      <td>3</td>\n",
       "      <td>12</td>\n",
       "      <td>referrer</td>\n",
       "    </tr>\n",
       "    <tr>\n",
       "      <th>788632</th>\n",
       "      <td>0</td>\n",
       "      <td>page_view</td>\n",
       "      <td>Safari</td>\n",
       "      <td>iOS</td>\n",
       "      <td>TABLET</td>\n",
       "      <td>Paid</td>\n",
       "      <td>101</td>\n",
       "      <td>1</td>\n",
       "      <td>0</td>\n",
       "      <td>Google</td>\n",
       "    </tr>\n",
       "    <tr>\n",
       "      <th>835362</th>\n",
       "      <td>0</td>\n",
       "      <td>page_view</td>\n",
       "      <td>Webkit based browser</td>\n",
       "      <td>iOS</td>\n",
       "      <td>MOBILE</td>\n",
       "      <td>Social</td>\n",
       "      <td>112900</td>\n",
       "      <td>1</td>\n",
       "      <td>0</td>\n",
       "      <td>LinkedIn</td>\n",
       "    </tr>\n",
       "  </tbody>\n",
       "</table>\n",
       "</div>"
      ],
      "text/plain": [
       "         dependent_variable      event               browser       os  \\\n",
       "416985                    0  page_view                Chrome  Windows   \n",
       "172060                    0  page_view                Chrome  Android   \n",
       "2309822                   0  page_view                Chrome  Windows   \n",
       "788632                    0  page_view                Safari      iOS   \n",
       "835362                    0  page_view  Webkit based browser      iOS   \n",
       "\n",
       "          device   channel  minutes_since_last_session  event_count  \\\n",
       "416985   DESKTOP    direct                           4           20   \n",
       "172060    TABLET      Paid                       20160            1   \n",
       "2309822  DESKTOP  referrer                         121            3   \n",
       "788632    TABLET      Paid                         101            1   \n",
       "835362    MOBILE    Social                      112900            1   \n",
       "\n",
       "         session_duration_seconds    source  \n",
       "416985                        541    direct  \n",
       "172060                          0    Google  \n",
       "2309822                        12  referrer  \n",
       "788632                          0    Google  \n",
       "835362                          0  LinkedIn  "
      ]
     },
     "execution_count": 24,
     "metadata": {},
     "output_type": "execute_result"
    }
   ],
   "source": [
    "# create dataset for prediction\n",
    "\n",
    "df_data = df[['dependent_variable', 'event', 'browser', 'os', 'device', \n",
    "              'channel', 'minutes_since_last_session', 'event_count', 'session_duration_seconds', 'source']]\n",
    "df_data.head()\n"
   ]
  },
  {
   "cell_type": "code",
   "execution_count": 25,
   "metadata": {},
   "outputs": [
    {
     "data": {
      "text/plain": [
       "\"for l in ['event', 'browser', 'os', 'device', \\n              'channel','source']:\\n    print(l)\\n    print(df_data[l].value_counts())\""
      ]
     },
     "execution_count": 25,
     "metadata": {},
     "output_type": "execute_result"
    }
   ],
   "source": [
    "#look into categorical data to create dummy variables\n",
    "\"\"\"for l in ['event', 'browser', 'os', 'device', \n",
    "              'channel','source']:\n",
    "    print(l)\n",
    "    print(df_data[l].value_counts())\"\"\""
   ]
  },
  {
   "cell_type": "code",
   "execution_count": 26,
   "metadata": {},
   "outputs": [
    {
     "name": "stdout",
     "output_type": "stream",
     "text": [
      "['dependent_variable' 'event' 'browser' 'os' 'device' 'channel'\n",
      " 'minutes_since_last_session' 'event_count' 'session_duration_seconds'\n",
      " 'source' 'source_Ask.com' 'source_Baidu' 'source_Banners' 'source_Bing'\n",
      " 'source_Caspari' 'source_DIS' 'source_DMP' 'source_Display'\n",
      " 'source_DuckDuckGo' 'source_Ecosia' 'source_Email' 'source_Facebook'\n",
      " 'source_Google' 'source_Instagram' 'source_Kragen' 'source_LinkedIn'\n",
      " 'source_MGWW' 'source_Marketing Vendor' 'source_Must See Promo'\n",
      " 'source_MyWay' 'source_Naver' 'source_Newsletter Ad' 'source_Others'\n",
      " 'source_Outlook' 'source_Paid Media' 'source_Pinterest'\n",
      " 'source_Programmatic' 'source_RTB' 'source_Reddit' 'source_Slack'\n",
      " 'source_SoMe' 'source_Twitter' 'source_Xing' 'source_YJP' 'source_Yahoo'\n",
      " 'source_Yandex' 'source_Youtube' 'source_blog' 'source_direct'\n",
      " 'source_eblast' 'source_ebooks' 'source_hs_automation'\n",
      " 'source_organic_social_media' 'source_outbound' 'source_referrer'\n",
      " 'source_sendinblue' 'source_sniply' 'source_vkontakte' 'source_wechat'\n",
      " 'source_whippany']\n"
     ]
    }
   ],
   "source": [
    "#create dummy values for categorical variables\n",
    "#should look into this more carefully and create a variable for 'others' when the value counts for a category is low\n",
    "categorical_variables=['event', 'browser', 'os', 'device', \n",
    "              'channel','source']\n",
    "for item in categorical_variables:\n",
    "    dummies = pd.get_dummies(df_data[item]).rename(columns=lambda x: item+ '_' + str(x))\n",
    "    df_data_new = pd.concat([df_data, dummies], axis=1)\n",
    "    #df_data_new = df_data_new.drop(item) --why does that not work?\n",
    "print(df_data_new.columns.values)"
   ]
  },
  {
   "cell_type": "code",
   "execution_count": 27,
   "metadata": {},
   "outputs": [
    {
     "data": {
      "text/html": [
       "<div>\n",
       "<style scoped>\n",
       "    .dataframe tbody tr th:only-of-type {\n",
       "        vertical-align: middle;\n",
       "    }\n",
       "\n",
       "    .dataframe tbody tr th {\n",
       "        vertical-align: top;\n",
       "    }\n",
       "\n",
       "    .dataframe thead th {\n",
       "        text-align: right;\n",
       "    }\n",
       "</style>\n",
       "<table border=\"1\" class=\"dataframe\">\n",
       "  <thead>\n",
       "    <tr style=\"text-align: right;\">\n",
       "      <th></th>\n",
       "      <th>dependent_variable</th>\n",
       "      <th>minutes_since_last_session</th>\n",
       "      <th>event_count</th>\n",
       "      <th>session_duration_seconds</th>\n",
       "      <th>source_Ask.com</th>\n",
       "      <th>source_Baidu</th>\n",
       "      <th>source_Banners</th>\n",
       "      <th>source_Bing</th>\n",
       "      <th>source_Caspari</th>\n",
       "      <th>source_DIS</th>\n",
       "      <th>...</th>\n",
       "      <th>source_ebooks</th>\n",
       "      <th>source_hs_automation</th>\n",
       "      <th>source_organic_social_media</th>\n",
       "      <th>source_outbound</th>\n",
       "      <th>source_referrer</th>\n",
       "      <th>source_sendinblue</th>\n",
       "      <th>source_sniply</th>\n",
       "      <th>source_vkontakte</th>\n",
       "      <th>source_wechat</th>\n",
       "      <th>source_whippany</th>\n",
       "    </tr>\n",
       "  </thead>\n",
       "  <tbody>\n",
       "    <tr>\n",
       "      <th>416985</th>\n",
       "      <td>0</td>\n",
       "      <td>4</td>\n",
       "      <td>20</td>\n",
       "      <td>541</td>\n",
       "      <td>0</td>\n",
       "      <td>0</td>\n",
       "      <td>0</td>\n",
       "      <td>0</td>\n",
       "      <td>0</td>\n",
       "      <td>0</td>\n",
       "      <td>...</td>\n",
       "      <td>0</td>\n",
       "      <td>0</td>\n",
       "      <td>0</td>\n",
       "      <td>0</td>\n",
       "      <td>0</td>\n",
       "      <td>0</td>\n",
       "      <td>0</td>\n",
       "      <td>0</td>\n",
       "      <td>0</td>\n",
       "      <td>0</td>\n",
       "    </tr>\n",
       "    <tr>\n",
       "      <th>172060</th>\n",
       "      <td>0</td>\n",
       "      <td>20160</td>\n",
       "      <td>1</td>\n",
       "      <td>0</td>\n",
       "      <td>0</td>\n",
       "      <td>0</td>\n",
       "      <td>0</td>\n",
       "      <td>0</td>\n",
       "      <td>0</td>\n",
       "      <td>0</td>\n",
       "      <td>...</td>\n",
       "      <td>0</td>\n",
       "      <td>0</td>\n",
       "      <td>0</td>\n",
       "      <td>0</td>\n",
       "      <td>0</td>\n",
       "      <td>0</td>\n",
       "      <td>0</td>\n",
       "      <td>0</td>\n",
       "      <td>0</td>\n",
       "      <td>0</td>\n",
       "    </tr>\n",
       "    <tr>\n",
       "      <th>2309822</th>\n",
       "      <td>0</td>\n",
       "      <td>121</td>\n",
       "      <td>3</td>\n",
       "      <td>12</td>\n",
       "      <td>0</td>\n",
       "      <td>0</td>\n",
       "      <td>0</td>\n",
       "      <td>0</td>\n",
       "      <td>0</td>\n",
       "      <td>0</td>\n",
       "      <td>...</td>\n",
       "      <td>0</td>\n",
       "      <td>0</td>\n",
       "      <td>0</td>\n",
       "      <td>0</td>\n",
       "      <td>1</td>\n",
       "      <td>0</td>\n",
       "      <td>0</td>\n",
       "      <td>0</td>\n",
       "      <td>0</td>\n",
       "      <td>0</td>\n",
       "    </tr>\n",
       "    <tr>\n",
       "      <th>788632</th>\n",
       "      <td>0</td>\n",
       "      <td>101</td>\n",
       "      <td>1</td>\n",
       "      <td>0</td>\n",
       "      <td>0</td>\n",
       "      <td>0</td>\n",
       "      <td>0</td>\n",
       "      <td>0</td>\n",
       "      <td>0</td>\n",
       "      <td>0</td>\n",
       "      <td>...</td>\n",
       "      <td>0</td>\n",
       "      <td>0</td>\n",
       "      <td>0</td>\n",
       "      <td>0</td>\n",
       "      <td>0</td>\n",
       "      <td>0</td>\n",
       "      <td>0</td>\n",
       "      <td>0</td>\n",
       "      <td>0</td>\n",
       "      <td>0</td>\n",
       "    </tr>\n",
       "    <tr>\n",
       "      <th>835362</th>\n",
       "      <td>0</td>\n",
       "      <td>112900</td>\n",
       "      <td>1</td>\n",
       "      <td>0</td>\n",
       "      <td>0</td>\n",
       "      <td>0</td>\n",
       "      <td>0</td>\n",
       "      <td>0</td>\n",
       "      <td>0</td>\n",
       "      <td>0</td>\n",
       "      <td>...</td>\n",
       "      <td>0</td>\n",
       "      <td>0</td>\n",
       "      <td>0</td>\n",
       "      <td>0</td>\n",
       "      <td>0</td>\n",
       "      <td>0</td>\n",
       "      <td>0</td>\n",
       "      <td>0</td>\n",
       "      <td>0</td>\n",
       "      <td>0</td>\n",
       "    </tr>\n",
       "  </tbody>\n",
       "</table>\n",
       "<p>5 rows × 54 columns</p>\n",
       "</div>"
      ],
      "text/plain": [
       "         dependent_variable  minutes_since_last_session  event_count  \\\n",
       "416985                    0                           4           20   \n",
       "172060                    0                       20160            1   \n",
       "2309822                   0                         121            3   \n",
       "788632                    0                         101            1   \n",
       "835362                    0                      112900            1   \n",
       "\n",
       "         session_duration_seconds  source_Ask.com  source_Baidu  \\\n",
       "416985                        541               0             0   \n",
       "172060                          0               0             0   \n",
       "2309822                        12               0             0   \n",
       "788632                          0               0             0   \n",
       "835362                          0               0             0   \n",
       "\n",
       "         source_Banners  source_Bing  source_Caspari  source_DIS  ...  \\\n",
       "416985                0            0               0           0  ...   \n",
       "172060                0            0               0           0  ...   \n",
       "2309822               0            0               0           0  ...   \n",
       "788632                0            0               0           0  ...   \n",
       "835362                0            0               0           0  ...   \n",
       "\n",
       "         source_ebooks  source_hs_automation  source_organic_social_media  \\\n",
       "416985               0                     0                            0   \n",
       "172060               0                     0                            0   \n",
       "2309822              0                     0                            0   \n",
       "788632               0                     0                            0   \n",
       "835362               0                     0                            0   \n",
       "\n",
       "         source_outbound  source_referrer  source_sendinblue  source_sniply  \\\n",
       "416985                 0                0                  0              0   \n",
       "172060                 0                0                  0              0   \n",
       "2309822                0                1                  0              0   \n",
       "788632                 0                0                  0              0   \n",
       "835362                 0                0                  0              0   \n",
       "\n",
       "         source_vkontakte  source_wechat  source_whippany  \n",
       "416985                  0              0                0  \n",
       "172060                  0              0                0  \n",
       "2309822                 0              0                0  \n",
       "788632                  0              0                0  \n",
       "835362                  0              0                0  \n",
       "\n",
       "[5 rows x 54 columns]"
      ]
     },
     "execution_count": 27,
     "metadata": {},
     "output_type": "execute_result"
    }
   ],
   "source": [
    "#drop the original categorical variables and show new data frame\n",
    "for var in categorical_variables:\n",
    "    df_data_new= df_data_new.drop(var, axis=1)\n",
    "df_data_new.head()"
   ]
  },
  {
   "cell_type": "code",
   "execution_count": 41,
   "metadata": {},
   "outputs": [],
   "source": [
    "# split the dataset into train and test\n",
    "X = df_data_new.drop('dependent_variable', axis = 1) \n",
    "y = df_data_new['dependent_variable']\n",
    "\n",
    "#print(X)\n",
    "#print(y)\n",
    "\n",
    "\n",
    "\n",
    "X_train, X_test, y_train, y_test = train_test_split(X, y, test_size=0.2, random_state=42)\n",
    "\n",
    "#scale the data - does not seem necessary\n",
    "#from sklearn.preprocessing import StandardScaler\n",
    "#feature_scaler = StandardScaler()\n",
    "#X_train = feature_scaler.fit_transform(X_train)\n",
    "#X_test = feature_scaler.transform(X_test)\n",
    "\n",
    "#Do not perform feature selections as the number of features is low and they all seem relevant"
   ]
  },
  {
   "cell_type": "code",
   "execution_count": 29,
   "metadata": {},
   "outputs": [
    {
     "data": {
      "text/plain": [
       "(597784, 53)"
      ]
     },
     "execution_count": 29,
     "metadata": {},
     "output_type": "execute_result"
    }
   ],
   "source": [
    "X.shape"
   ]
  },
  {
   "cell_type": "code",
   "execution_count": 30,
   "metadata": {},
   "outputs": [],
   "source": [
    "def classify(model):\n",
    "    model.fit(X_train, y_train)\n",
    "    predictions = model.predict(X_test)\n",
    "    print(\"Training set score: \", model.score(X_train, y_train))\n",
    "    print(\"Test set score: \", model.score(X_test, y_test))\n",
    "    #print the predictions\n",
    "    #print(predictions)\n",
    "    #Check precision, recall, f1-score\n",
    "    print( classification_report(y_test, predictions))\n",
    "    return (predictions, model)"
   ]
  },
  {
   "cell_type": "code",
   "execution_count": 31,
   "metadata": {},
   "outputs": [],
   "source": [
    "#try different ML models\n",
    "def buildmodels():\n",
    "\n",
    "    #logistic regression\n",
    "    print(\"Logistic Regression\")\n",
    "    logreg = LogisticRegression()\n",
    "    logreg_pred, logreg=classify(logreg)\n",
    "\n",
    "    #LinearSVC\n",
    "    print(\"LinearSCV\")\n",
    "    lsvc = LinearSVC()\n",
    "    lsv_pred, lsvc=classify(lsvc)\n",
    "\n",
    "    #decision tree\n",
    "    print(\"Decision Tree Cl\")\n",
    "    tree=DecisionTreeClassifier()\n",
    "    tree_pred, tree=classify(tree)\n",
    "    #print(\"feature imporatnces\", tree.feature_importances_)\n",
    "\n",
    "    #random forest\n",
    "    print(\"Radnom Forest Cl\")\n",
    "    forest=RandomForestClassifier()\n",
    "    forest_pred, forest=classify(forest)\n",
    "    #print(\"feature imporatnces\", forest.feature_importances_)\n",
    "\n",
    "    #gradient boosting\n",
    "    print(\"Gradient Boosting Cl\")\n",
    "    gbrt=GradientBoostingClassifier()\n",
    "    gbrt_pred, gbrt=classify(gbrt)\n",
    "\n",
    "    #MNeural Networks: MLPs\n",
    "    print(\"MLP\")\n",
    "    mlp=MLPClassifier()\n",
    "    mlp_pred, mlp=classify(mlp)"
   ]
  },
  {
   "cell_type": "code",
   "execution_count": 32,
   "metadata": {},
   "outputs": [
    {
     "name": "stdout",
     "output_type": "stream",
     "text": [
      "Logistic Regression\n",
      "Training set score:  0.9896283564081493\n",
      "Test set score:  0.98953637177246\n",
      "              precision    recall  f1-score   support\n",
      "\n",
      "           0       0.99      1.00      0.99    118344\n",
      "           1       0.15      0.01      0.01      1213\n",
      "\n",
      "    accuracy                           0.99    119557\n",
      "   macro avg       0.57      0.50      0.50    119557\n",
      "weighted avg       0.98      0.99      0.98    119557\n",
      "\n",
      "LinearSCV\n"
     ]
    },
    {
     "name": "stderr",
     "output_type": "stream",
     "text": [
      "C:\\Users\\rraquel\\.conda\\envs\\amb_env\\lib\\site-packages\\sklearn\\svm\\_base.py:947: ConvergenceWarning: Liblinear failed to converge, increase the number of iterations.\n",
      "  \"the number of iterations.\", ConvergenceWarning)\n"
     ]
    },
    {
     "name": "stdout",
     "output_type": "stream",
     "text": [
      "Training set score:  0.9862722096410282\n",
      "Test set score:  0.9861739588648093\n",
      "              precision    recall  f1-score   support\n",
      "\n",
      "           0       0.99      1.00      0.99    118344\n",
      "           1       0.05      0.02      0.03      1213\n",
      "\n",
      "    accuracy                           0.99    119557\n",
      "   macro avg       0.52      0.51      0.51    119557\n",
      "weighted avg       0.98      0.99      0.98    119557\n",
      "\n",
      "Decision Tree Cl\n",
      "Training set score:  0.9977500224788647\n",
      "Test set score:  0.982343150129227\n",
      "              precision    recall  f1-score   support\n",
      "\n",
      "           0       0.99      0.99      0.99    118344\n",
      "           1       0.09      0.08      0.08      1213\n",
      "\n",
      "    accuracy                           0.98    119557\n",
      "   macro avg       0.54      0.53      0.54    119557\n",
      "weighted avg       0.98      0.98      0.98    119557\n",
      "\n",
      "Radnom Forest Cl\n",
      "Training set score:  0.9977291119071069\n",
      "Test set score:  0.987629331615882\n",
      "              precision    recall  f1-score   support\n",
      "\n",
      "           0       0.99      1.00      0.99    118344\n",
      "           1       0.12      0.03      0.05      1213\n",
      "\n",
      "    accuracy                           0.99    119557\n",
      "   macro avg       0.55      0.52      0.52    119557\n",
      "weighted avg       0.98      0.99      0.98    119557\n",
      "\n",
      "Gradient Boosting Cl\n",
      "Training set score:  0.990015201985668\n",
      "Test set score:  0.9898542117985564\n"
     ]
    },
    {
     "name": "stderr",
     "output_type": "stream",
     "text": [
      "C:\\Users\\rraquel\\.conda\\envs\\amb_env\\lib\\site-packages\\sklearn\\metrics\\_classification.py:1272: UndefinedMetricWarning: Precision and F-score are ill-defined and being set to 0.0 in labels with no predicted samples. Use `zero_division` parameter to control this behavior.\n",
      "  _warn_prf(average, modifier, msg_start, len(result))\n"
     ]
    },
    {
     "name": "stdout",
     "output_type": "stream",
     "text": [
      "              precision    recall  f1-score   support\n",
      "\n",
      "           0       0.99      1.00      0.99    118344\n",
      "           1       0.00      0.00      0.00      1213\n",
      "\n",
      "    accuracy                           0.99    119557\n",
      "   macro avg       0.49      0.50      0.50    119557\n",
      "weighted avg       0.98      0.99      0.98    119557\n",
      "\n",
      "MLP\n",
      "Training set score:  0.9899922003567344\n",
      "Test set score:  0.9898542117985564\n"
     ]
    },
    {
     "name": "stderr",
     "output_type": "stream",
     "text": [
      "C:\\Users\\rraquel\\.conda\\envs\\amb_env\\lib\\site-packages\\sklearn\\metrics\\_classification.py:1272: UndefinedMetricWarning: Precision and F-score are ill-defined and being set to 0.0 in labels with no predicted samples. Use `zero_division` parameter to control this behavior.\n",
      "  _warn_prf(average, modifier, msg_start, len(result))\n"
     ]
    },
    {
     "name": "stdout",
     "output_type": "stream",
     "text": [
      "              precision    recall  f1-score   support\n",
      "\n",
      "           0       0.99      1.00      0.99    118344\n",
      "           1       0.00      0.00      0.00      1213\n",
      "\n",
      "    accuracy                           0.99    119557\n",
      "   macro avg       0.49      0.50      0.50    119557\n",
      "weighted avg       0.98      0.99      0.98    119557\n",
      "\n"
     ]
    }
   ],
   "source": [
    "buildmodels()"
   ]
  },
  {
   "cell_type": "code",
   "execution_count": 33,
   "metadata": {},
   "outputs": [
    {
     "name": "stdout",
     "output_type": "stream",
     "text": [
      "NearMiss(n_jobs=None, n_neighbors=3, n_neighbors_ver3=3,\n",
      "         sampling_strategy='auto', version=1)\n",
      "Logistic Regression\n"
     ]
    },
    {
     "name": "stderr",
     "output_type": "stream",
     "text": [
      "C:\\Users\\rraquel\\.conda\\envs\\amb_env\\lib\\site-packages\\sklearn\\linear_model\\_logistic.py:940: ConvergenceWarning: lbfgs failed to converge (status=1):\n",
      "STOP: TOTAL NO. of ITERATIONS REACHED LIMIT.\n",
      "\n",
      "Increase the number of iterations (max_iter) or scale the data as shown in:\n",
      "    https://scikit-learn.org/stable/modules/preprocessing.html\n",
      "Please also refer to the documentation for alternative solver options:\n",
      "    https://scikit-learn.org/stable/modules/linear_model.html#logistic-regression\n",
      "  extra_warning_msg=_LOGISTIC_SOLVER_CONVERGENCE_MSG)\n"
     ]
    },
    {
     "name": "stdout",
     "output_type": "stream",
     "text": [
      "Training set score:  0.9419139155871291\n",
      "Test set score:  0.6165929222044715\n",
      "              precision    recall  f1-score   support\n",
      "\n",
      "           0       1.00      0.61      0.76    118344\n",
      "           1       0.02      0.91      0.05      1213\n",
      "\n",
      "    accuracy                           0.62    119557\n",
      "   macro avg       0.51      0.76      0.40    119557\n",
      "weighted avg       0.99      0.62      0.75    119557\n",
      "\n",
      "LinearSCV\n"
     ]
    },
    {
     "name": "stderr",
     "output_type": "stream",
     "text": [
      "C:\\Users\\rraquel\\.conda\\envs\\amb_env\\lib\\site-packages\\sklearn\\svm\\_base.py:947: ConvergenceWarning: Liblinear failed to converge, increase the number of iterations.\n",
      "  \"the number of iterations.\", ConvergenceWarning)\n"
     ]
    },
    {
     "name": "stdout",
     "output_type": "stream",
     "text": [
      "Training set score:  0.9184078562473882\n",
      "Test set score:  0.5354182523817091\n",
      "              precision    recall  f1-score   support\n",
      "\n",
      "           0       1.00      0.53      0.69    118344\n",
      "           1       0.02      0.87      0.04      1213\n",
      "\n",
      "    accuracy                           0.54    119557\n",
      "   macro avg       0.51      0.70      0.37    119557\n",
      "weighted avg       0.99      0.54      0.69    119557\n",
      "\n",
      "Decision Tree Cl\n",
      "Training set score:  0.9692854157960719\n",
      "Test set score:  0.44124559833384913\n",
      "              precision    recall  f1-score   support\n",
      "\n",
      "           0       1.00      0.44      0.61    118344\n",
      "           1       0.02      0.95      0.03      1213\n",
      "\n",
      "    accuracy                           0.44    119557\n",
      "   macro avg       0.51      0.69      0.32    119557\n",
      "weighted avg       0.99      0.44      0.60    119557\n",
      "\n",
      "Radnom Forest Cl\n",
      "Training set score:  0.9692854157960719\n",
      "Test set score:  0.06087472920866198\n",
      "              precision    recall  f1-score   support\n",
      "\n",
      "           0       0.99      0.05      0.10    118344\n",
      "           1       0.01      0.95      0.02      1213\n",
      "\n",
      "    accuracy                           0.06    119557\n",
      "   macro avg       0.50      0.50      0.06    119557\n",
      "weighted avg       0.98      0.06      0.10    119557\n",
      "\n",
      "Gradient Boosting Cl\n",
      "Training set score:  0.950793982448809\n",
      "Test set score:  0.5790543422802512\n",
      "              precision    recall  f1-score   support\n",
      "\n",
      "           0       1.00      0.58      0.73    118344\n",
      "           1       0.02      0.93      0.04      1213\n",
      "\n",
      "    accuracy                           0.58    119557\n",
      "   macro avg       0.51      0.76      0.39    119557\n",
      "weighted avg       0.99      0.58      0.72    119557\n",
      "\n",
      "MLP\n",
      "Training set score:  0.9451525282072712\n",
      "Test set score:  0.5740860008196927\n",
      "              precision    recall  f1-score   support\n",
      "\n",
      "           0       1.00      0.57      0.73    118344\n",
      "           1       0.02      0.92      0.04      1213\n",
      "\n",
      "    accuracy                           0.57    119557\n",
      "   macro avg       0.51      0.75      0.38    119557\n",
      "weighted avg       0.99      0.57      0.72    119557\n",
      "\n",
      "RandomUnderSampler(random_state=None, replacement=False,\n",
      "                   sampling_strategy='auto')\n",
      "Logistic Regression\n"
     ]
    },
    {
     "name": "stderr",
     "output_type": "stream",
     "text": [
      "C:\\Users\\rraquel\\.conda\\envs\\amb_env\\lib\\site-packages\\sklearn\\linear_model\\_logistic.py:940: ConvergenceWarning: lbfgs failed to converge (status=1):\n",
      "STOP: TOTAL NO. of ITERATIONS REACHED LIMIT.\n",
      "\n",
      "Increase the number of iterations (max_iter) or scale the data as shown in:\n",
      "    https://scikit-learn.org/stable/modules/preprocessing.html\n",
      "Please also refer to the documentation for alternative solver options:\n",
      "    https://scikit-learn.org/stable/modules/linear_model.html#logistic-regression\n",
      "  extra_warning_msg=_LOGISTIC_SOLVER_CONVERGENCE_MSG)\n"
     ]
    },
    {
     "name": "stdout",
     "output_type": "stream",
     "text": [
      "Training set score:  0.9419139155871291\n",
      "Test set score:  0.6165678295708323\n",
      "              precision    recall  f1-score   support\n",
      "\n",
      "           0       1.00      0.61      0.76    118344\n",
      "           1       0.02      0.92      0.05      1213\n",
      "\n",
      "    accuracy                           0.62    119557\n",
      "   macro avg       0.51      0.76      0.40    119557\n",
      "weighted avg       0.99      0.62      0.75    119557\n",
      "\n",
      "LinearSCV\n"
     ]
    },
    {
     "name": "stderr",
     "output_type": "stream",
     "text": [
      "C:\\Users\\rraquel\\.conda\\envs\\amb_env\\lib\\site-packages\\sklearn\\svm\\_base.py:947: ConvergenceWarning: Liblinear failed to converge, increase the number of iterations.\n",
      "  \"the number of iterations.\", ConvergenceWarning)\n"
     ]
    },
    {
     "name": "stdout",
     "output_type": "stream",
     "text": [
      "Training set score:  0.916213957375679\n",
      "Test set score:  0.5458484237643969\n",
      "              precision    recall  f1-score   support\n",
      "\n",
      "           0       1.00      0.54      0.70    118344\n",
      "           1       0.02      0.85      0.04      1213\n",
      "\n",
      "    accuracy                           0.55    119557\n",
      "   macro avg       0.51      0.70      0.37    119557\n",
      "weighted avg       0.99      0.55      0.70    119557\n",
      "\n",
      "Decision Tree Cl\n",
      "Training set score:  0.9692854157960719\n",
      "Test set score:  0.4408022951395569\n",
      "              precision    recall  f1-score   support\n",
      "\n",
      "           0       1.00      0.44      0.61    118344\n",
      "           1       0.02      0.95      0.03      1213\n",
      "\n",
      "    accuracy                           0.44    119557\n",
      "   macro avg       0.51      0.69      0.32    119557\n",
      "weighted avg       0.99      0.44      0.60    119557\n",
      "\n",
      "Radnom Forest Cl\n",
      "Training set score:  0.9692854157960719\n",
      "Test set score:  0.06671294863537894\n",
      "              precision    recall  f1-score   support\n",
      "\n",
      "           0       0.99      0.06      0.11    118344\n",
      "           1       0.01      0.95      0.02      1213\n",
      "\n",
      "    accuracy                           0.07    119557\n",
      "   macro avg       0.50      0.50      0.06    119557\n",
      "weighted avg       0.98      0.07      0.11    119557\n",
      "\n",
      "Gradient Boosting Cl\n",
      "Training set score:  0.950793982448809\n",
      "Test set score:  0.5792634475605778\n",
      "              precision    recall  f1-score   support\n",
      "\n",
      "           0       1.00      0.58      0.73    118344\n",
      "           1       0.02      0.93      0.04      1213\n",
      "\n",
      "    accuracy                           0.58    119557\n",
      "   macro avg       0.51      0.76      0.39    119557\n",
      "weighted avg       0.99      0.58      0.72    119557\n",
      "\n",
      "MLP\n",
      "Training set score:  0.942227329711659\n",
      "Test set score:  0.6042724390876318\n",
      "              precision    recall  f1-score   support\n",
      "\n",
      "           0       1.00      0.60      0.75    118344\n",
      "           1       0.02      0.92      0.05      1213\n",
      "\n",
      "    accuracy                           0.60    119557\n",
      "   macro avg       0.51      0.76      0.40    119557\n",
      "weighted avg       0.99      0.60      0.74    119557\n",
      "\n",
      "AllKNN(allow_minority=False, kind_sel='all', n_jobs=None, n_neighbors=3,\n",
      "       sampling_strategy='auto')\n",
      "Logistic Regression\n"
     ]
    },
    {
     "name": "stderr",
     "output_type": "stream",
     "text": [
      "C:\\Users\\rraquel\\.conda\\envs\\amb_env\\lib\\site-packages\\sklearn\\linear_model\\_logistic.py:940: ConvergenceWarning: lbfgs failed to converge (status=1):\n",
      "STOP: TOTAL NO. of ITERATIONS REACHED LIMIT.\n",
      "\n",
      "Increase the number of iterations (max_iter) or scale the data as shown in:\n",
      "    https://scikit-learn.org/stable/modules/preprocessing.html\n",
      "Please also refer to the documentation for alternative solver options:\n",
      "    https://scikit-learn.org/stable/modules/linear_model.html#logistic-regression\n",
      "  extra_warning_msg=_LOGISTIC_SOLVER_CONVERGENCE_MSG)\n"
     ]
    },
    {
     "name": "stdout",
     "output_type": "stream",
     "text": [
      "Training set score:  0.9697101765090433\n",
      "Test set score:  0.6258939250733959\n",
      "              precision    recall  f1-score   support\n",
      "\n",
      "           0       1.00      0.62      0.77    118344\n",
      "           1       0.02      0.90      0.05      1213\n",
      "\n",
      "    accuracy                           0.63    119557\n",
      "   macro avg       0.51      0.76      0.41    119557\n",
      "weighted avg       0.99      0.63      0.76    119557\n",
      "\n",
      "LinearSCV\n"
     ]
    },
    {
     "name": "stderr",
     "output_type": "stream",
     "text": [
      "C:\\Users\\rraquel\\.conda\\envs\\amb_env\\lib\\site-packages\\sklearn\\svm\\_base.py:947: ConvergenceWarning: Liblinear failed to converge, increase the number of iterations.\n",
      "  \"the number of iterations.\", ConvergenceWarning)\n"
     ]
    },
    {
     "name": "stdout",
     "output_type": "stream",
     "text": [
      "Training set score:  0.9588145565482676\n",
      "Test set score:  0.603753857992422\n",
      "              precision    recall  f1-score   support\n",
      "\n",
      "           0       1.00      0.60      0.75    118344\n",
      "           1       0.02      0.87      0.04      1213\n",
      "\n",
      "    accuracy                           0.60    119557\n",
      "   macro avg       0.51      0.73      0.40    119557\n",
      "weighted avg       0.99      0.60      0.74    119557\n",
      "\n",
      "Decision Tree Cl\n",
      "Training set score:  0.9955327958160819\n",
      "Test set score:  0.581597062489022\n",
      "              precision    recall  f1-score   support\n",
      "\n",
      "           0       1.00      0.58      0.73    118344\n",
      "           1       0.02      0.93      0.04      1213\n",
      "\n",
      "    accuracy                           0.58    119557\n",
      "   macro avg       0.51      0.76      0.39    119557\n",
      "weighted avg       0.99      0.58      0.73    119557\n",
      "\n",
      "Radnom Forest Cl\n",
      "Training set score:  0.9955327958160819\n",
      "Test set score:  0.21092867837098622\n",
      "              precision    recall  f1-score   support\n",
      "\n",
      "           0       1.00      0.20      0.34    118344\n",
      "           1       0.01      0.94      0.02      1213\n",
      "\n",
      "    accuracy                           0.21    119557\n",
      "   macro avg       0.50      0.57      0.18    119557\n",
      "weighted avg       0.99      0.21      0.33    119557\n",
      "\n",
      "Gradient Boosting Cl\n",
      "Training set score:  0.9775550228808019\n",
      "Test set score:  0.5496457756551268\n",
      "              precision    recall  f1-score   support\n",
      "\n",
      "           0       1.00      0.55      0.71    118344\n",
      "           1       0.02      0.92      0.04      1213\n",
      "\n",
      "    accuracy                           0.55    119557\n",
      "   macro avg       0.51      0.73      0.37    119557\n",
      "weighted avg       0.99      0.55      0.70    119557\n",
      "\n",
      "MLP\n",
      "Training set score:  0.9681847897145348\n",
      "Test set score:  0.6232926553861338\n",
      "              precision    recall  f1-score   support\n",
      "\n",
      "           0       1.00      0.62      0.77    118344\n",
      "           1       0.02      0.89      0.05      1213\n",
      "\n",
      "    accuracy                           0.62    119557\n",
      "   macro avg       0.51      0.76      0.41    119557\n",
      "weighted avg       0.99      0.62      0.76    119557\n",
      "\n",
      "RandomOverSampler(random_state=None, sampling_strategy='auto')\n",
      "Logistic Regression\n"
     ]
    },
    {
     "name": "stderr",
     "output_type": "stream",
     "text": [
      "C:\\Users\\rraquel\\.conda\\envs\\amb_env\\lib\\site-packages\\sklearn\\linear_model\\_logistic.py:940: ConvergenceWarning: lbfgs failed to converge (status=1):\n",
      "STOP: TOTAL NO. of ITERATIONS REACHED LIMIT.\n",
      "\n",
      "Increase the number of iterations (max_iter) or scale the data as shown in:\n",
      "    https://scikit-learn.org/stable/modules/preprocessing.html\n",
      "Please also refer to the documentation for alternative solver options:\n",
      "    https://scikit-learn.org/stable/modules/linear_model.html#logistic-regression\n",
      "  extra_warning_msg=_LOGISTIC_SOLVER_CONVERGENCE_MSG)\n"
     ]
    },
    {
     "name": "stdout",
     "output_type": "stream",
     "text": [
      "Training set score:  0.9683451734224823\n",
      "Test set score:  0.6261615798322139\n",
      "              precision    recall  f1-score   support\n",
      "\n",
      "           0       1.00      0.62      0.77    118344\n",
      "           1       0.02      0.90      0.05      1213\n",
      "\n",
      "    accuracy                           0.63    119557\n",
      "   macro avg       0.51      0.76      0.41    119557\n",
      "weighted avg       0.99      0.63      0.76    119557\n",
      "\n",
      "LinearSCV\n"
     ]
    },
    {
     "name": "stderr",
     "output_type": "stream",
     "text": [
      "C:\\Users\\rraquel\\.conda\\envs\\amb_env\\lib\\site-packages\\sklearn\\svm\\_base.py:947: ConvergenceWarning: Liblinear failed to converge, increase the number of iterations.\n",
      "  \"the number of iterations.\", ConvergenceWarning)\n"
     ]
    },
    {
     "name": "stdout",
     "output_type": "stream",
     "text": [
      "Training set score:  0.9657333890513999\n",
      "Test set score:  0.5950132572747727\n",
      "              precision    recall  f1-score   support\n",
      "\n",
      "           0       1.00      0.59      0.74    118344\n",
      "           1       0.02      0.90      0.04      1213\n",
      "\n",
      "    accuracy                           0.60    119557\n",
      "   macro avg       0.51      0.75      0.39    119557\n",
      "weighted avg       0.99      0.60      0.74    119557\n",
      "\n",
      "Decision Tree Cl\n",
      "Training set score:  0.9950898453823652\n",
      "Test set score:  0.5815134203768914\n",
      "              precision    recall  f1-score   support\n",
      "\n",
      "           0       1.00      0.58      0.73    118344\n",
      "           1       0.02      0.93      0.04      1213\n",
      "\n",
      "    accuracy                           0.58    119557\n",
      "   macro avg       0.51      0.76      0.39    119557\n",
      "weighted avg       0.99      0.58      0.73    119557\n",
      "\n",
      "Radnom Forest Cl\n",
      "Training set score:  0.994985374007522\n",
      "Test set score:  0.21786260946661426\n",
      "              precision    recall  f1-score   support\n",
      "\n",
      "           0       1.00      0.21      0.35    118344\n",
      "           1       0.01      0.94      0.02      1213\n",
      "\n",
      "    accuracy                           0.22    119557\n",
      "   macro avg       0.50      0.57      0.19    119557\n",
      "weighted avg       0.99      0.22      0.34    119557\n",
      "\n",
      "Gradient Boosting Cl\n",
      "Training set score:  0.9780610112829085\n",
      "Test set score:  0.5511764263071172\n",
      "              precision    recall  f1-score   support\n",
      "\n",
      "           0       1.00      0.55      0.71    118344\n",
      "           1       0.02      0.92      0.04      1213\n",
      "\n",
      "    accuracy                           0.55    119557\n",
      "   macro avg       0.51      0.73      0.37    119557\n",
      "weighted avg       0.99      0.55      0.70    119557\n",
      "\n",
      "MLP\n",
      "Training set score:  0.9727329711659005\n",
      "Test set score:  0.6113234691402427\n",
      "              precision    recall  f1-score   support\n",
      "\n",
      "           0       1.00      0.61      0.76    118344\n",
      "           1       0.02      0.91      0.05      1213\n",
      "\n",
      "    accuracy                           0.61    119557\n",
      "   macro avg       0.51      0.76      0.40    119557\n",
      "weighted avg       0.99      0.61      0.75    119557\n",
      "\n",
      "SMOTE(k_neighbors=5, n_jobs=None, random_state=None, sampling_strategy='auto')\n",
      "Logistic Regression\n"
     ]
    },
    {
     "name": "stderr",
     "output_type": "stream",
     "text": [
      "C:\\Users\\rraquel\\.conda\\envs\\amb_env\\lib\\site-packages\\sklearn\\linear_model\\_logistic.py:940: ConvergenceWarning: lbfgs failed to converge (status=1):\n",
      "STOP: TOTAL NO. of ITERATIONS REACHED LIMIT.\n",
      "\n",
      "Increase the number of iterations (max_iter) or scale the data as shown in:\n",
      "    https://scikit-learn.org/stable/modules/preprocessing.html\n",
      "Please also refer to the documentation for alternative solver options:\n",
      "    https://scikit-learn.org/stable/modules/linear_model.html#logistic-regression\n",
      "  extra_warning_msg=_LOGISTIC_SOLVER_CONVERGENCE_MSG)\n"
     ]
    },
    {
     "name": "stdout",
     "output_type": "stream",
     "text": [
      "Training set score:  0.9683451734224823\n",
      "Test set score:  0.6261615798322139\n",
      "              precision    recall  f1-score   support\n",
      "\n",
      "           0       1.00      0.62      0.77    118344\n",
      "           1       0.02      0.90      0.05      1213\n",
      "\n",
      "    accuracy                           0.63    119557\n",
      "   macro avg       0.51      0.76      0.41    119557\n",
      "weighted avg       0.99      0.63      0.76    119557\n",
      "\n",
      "LinearSCV\n"
     ]
    },
    {
     "name": "stderr",
     "output_type": "stream",
     "text": [
      "C:\\Users\\rraquel\\.conda\\envs\\amb_env\\lib\\site-packages\\sklearn\\svm\\_base.py:947: ConvergenceWarning: Liblinear failed to converge, increase the number of iterations.\n",
      "  \"the number of iterations.\", ConvergenceWarning)\n"
     ]
    },
    {
     "name": "stdout",
     "output_type": "stream",
     "text": [
      "Training set score:  0.9642707898035938\n",
      "Test set score:  0.5849511111854596\n",
      "              precision    recall  f1-score   support\n",
      "\n",
      "           0       1.00      0.58      0.73    118344\n",
      "           1       0.02      0.93      0.04      1213\n",
      "\n",
      "    accuracy                           0.58    119557\n",
      "   macro avg       0.51      0.75      0.39    119557\n",
      "weighted avg       0.99      0.58      0.73    119557\n",
      "\n",
      "Decision Tree Cl\n",
      "Training set score:  0.9950898453823652\n",
      "Test set score:  0.5815803340665958\n",
      "              precision    recall  f1-score   support\n",
      "\n",
      "           0       1.00      0.58      0.73    118344\n",
      "           1       0.02      0.93      0.04      1213\n",
      "\n",
      "    accuracy                           0.58    119557\n",
      "   macro avg       0.51      0.76      0.39    119557\n",
      "weighted avg       0.99      0.58      0.73    119557\n",
      "\n",
      "Radnom Forest Cl\n",
      "Training set score:  0.9950898453823652\n",
      "Test set score:  0.22291459303930342\n",
      "              precision    recall  f1-score   support\n",
      "\n",
      "           0       1.00      0.22      0.35    118344\n",
      "           1       0.01      0.94      0.02      1213\n",
      "\n",
      "    accuracy                           0.22    119557\n",
      "   macro avg       0.50      0.58      0.19    119557\n",
      "weighted avg       0.99      0.22      0.35    119557\n",
      "\n",
      "Gradient Boosting Cl\n",
      "Training set score:  0.9780610112829085\n",
      "Test set score:  0.5511764263071172\n",
      "              precision    recall  f1-score   support\n",
      "\n",
      "           0       1.00      0.55      0.71    118344\n",
      "           1       0.02      0.92      0.04      1213\n",
      "\n",
      "    accuracy                           0.55    119557\n",
      "   macro avg       0.51      0.73      0.37    119557\n",
      "weighted avg       0.99      0.55      0.70    119557\n",
      "\n",
      "MLP\n",
      "Training set score:  0.9692854157960719\n",
      "Test set score:  0.6208252130782806\n",
      "              precision    recall  f1-score   support\n",
      "\n",
      "           0       1.00      0.62      0.76    118344\n",
      "           1       0.02      0.89      0.05      1213\n",
      "\n",
      "    accuracy                           0.62    119557\n",
      "   macro avg       0.51      0.76      0.40    119557\n",
      "weighted avg       0.99      0.62      0.76    119557\n",
      "\n",
      "KMeansSMOTE(cluster_balance_threshold='auto', density_exponent='auto',\n",
      "            k_neighbors=2, kmeans_estimator=None, n_jobs=None,\n",
      "            random_state=None, sampling_strategy='auto')\n",
      "Logistic Regression\n"
     ]
    },
    {
     "name": "stderr",
     "output_type": "stream",
     "text": [
      "C:\\Users\\rraquel\\.conda\\envs\\amb_env\\lib\\site-packages\\sklearn\\linear_model\\_logistic.py:940: ConvergenceWarning: lbfgs failed to converge (status=1):\n",
      "STOP: TOTAL NO. of ITERATIONS REACHED LIMIT.\n",
      "\n",
      "Increase the number of iterations (max_iter) or scale the data as shown in:\n",
      "    https://scikit-learn.org/stable/modules/preprocessing.html\n",
      "Please also refer to the documentation for alternative solver options:\n",
      "    https://scikit-learn.org/stable/modules/linear_model.html#logistic-regression\n",
      "  extra_warning_msg=_LOGISTIC_SOLVER_CONVERGENCE_MSG)\n"
     ]
    },
    {
     "name": "stdout",
     "output_type": "stream",
     "text": [
      "Training set score:  0.9683451734224823\n",
      "Test set score:  0.6261615798322139\n",
      "              precision    recall  f1-score   support\n",
      "\n",
      "           0       1.00      0.62      0.77    118344\n",
      "           1       0.02      0.90      0.05      1213\n",
      "\n",
      "    accuracy                           0.63    119557\n",
      "   macro avg       0.51      0.76      0.41    119557\n",
      "weighted avg       0.99      0.63      0.76    119557\n",
      "\n",
      "LinearSCV\n"
     ]
    },
    {
     "name": "stderr",
     "output_type": "stream",
     "text": [
      "C:\\Users\\rraquel\\.conda\\envs\\amb_env\\lib\\site-packages\\sklearn\\svm\\_base.py:947: ConvergenceWarning: Liblinear failed to converge, increase the number of iterations.\n",
      "  \"the number of iterations.\", ConvergenceWarning)\n"
     ]
    },
    {
     "name": "stdout",
     "output_type": "stream",
     "text": [
      "Training set score:  0.9619724195570414\n",
      "Test set score:  0.601436971486404\n",
      "              precision    recall  f1-score   support\n",
      "\n",
      "           0       1.00      0.60      0.75    118344\n",
      "           1       0.02      0.88      0.04      1213\n",
      "\n",
      "    accuracy                           0.60    119557\n",
      "   macro avg       0.51      0.74      0.40    119557\n",
      "weighted avg       0.99      0.60      0.74    119557\n",
      "\n",
      "Decision Tree Cl\n",
      "Training set score:  0.9950898453823652\n",
      "Test set score:  0.5815301487993175\n",
      "              precision    recall  f1-score   support\n",
      "\n",
      "           0       1.00      0.58      0.73    118344\n",
      "           1       0.02      0.93      0.04      1213\n",
      "\n",
      "    accuracy                           0.58    119557\n",
      "   macro avg       0.51      0.76      0.39    119557\n",
      "weighted avg       0.99      0.58      0.73    119557\n",
      "\n",
      "Radnom Forest Cl\n",
      "Training set score:  0.9950898453823652\n",
      "Test set score:  0.22800003345684486\n",
      "              precision    recall  f1-score   support\n",
      "\n",
      "           0       1.00      0.22      0.36    118344\n",
      "           1       0.01      0.94      0.02      1213\n",
      "\n",
      "    accuracy                           0.23    119557\n",
      "   macro avg       0.50      0.58      0.19    119557\n",
      "weighted avg       0.99      0.23      0.36    119557\n",
      "\n",
      "Gradient Boosting Cl\n",
      "Training set score:  0.9780610112829085\n",
      "Test set score:  0.5511764263071172\n",
      "              precision    recall  f1-score   support\n",
      "\n",
      "           0       1.00      0.55      0.71    118344\n",
      "           1       0.02      0.92      0.04      1213\n",
      "\n",
      "    accuracy                           0.55    119557\n",
      "   macro avg       0.51      0.73      0.37    119557\n",
      "weighted avg       0.99      0.55      0.70    119557\n",
      "\n",
      "MLP\n",
      "Training set score:  0.9687630589218554\n",
      "Test set score:  0.6152546484103817\n",
      "              precision    recall  f1-score   support\n",
      "\n",
      "           0       1.00      0.61      0.76    118344\n",
      "           1       0.02      0.89      0.04      1213\n",
      "\n",
      "    accuracy                           0.62    119557\n",
      "   macro avg       0.51      0.75      0.40    119557\n",
      "weighted avg       0.99      0.62      0.75    119557\n",
      "\n"
     ]
    }
   ],
   "source": [
    "### WEIGHT CLASSES TO CHECK IF THE PERFORMANCE CAN BE IMPORVED\n",
    "#try different sampling methods\n",
    "from imblearn.under_sampling import NearMiss\n",
    "from imblearn.under_sampling import RandomUnderSampler\n",
    "from imblearn.under_sampling import AllKNN\n",
    "from imblearn.over_sampling import RandomOverSampler\n",
    "from imblearn.over_sampling import SMOTE\n",
    "from imblearn.over_sampling import KMeansSMOTE\n",
    "\n",
    "for method in [NearMiss(version=1), RandomUnderSampler(), AllKNN(), RandomOverSampler(), SMOTE(), KMeansSMOTE()]:\n",
    "    X_res, y_res = method.fit_resample(X_train, y_train)\n",
    "    X_train, y_train=X_res, y_res\n",
    "    print(method)\n",
    "    buildmodels()\n"
   ]
  },
  {
   "cell_type": "code",
   "execution_count": null,
   "metadata": {},
   "outputs": [],
   "source": [
    "#Class imbalance seems still to high, even after sampling.\n",
    "#It would be better to work on the dataset, to see if costumer journeys can be united for each user and then go back to modeling."
   ]
  },
  {
   "cell_type": "code",
   "execution_count": 42,
   "metadata": {},
   "outputs": [
    {
     "ename": "RuntimeError",
     "evalue": "No clusters found with sufficient samples of class 1. Try lowering the cluster_balance_threshold or increasing the number of clusters.",
     "output_type": "error",
     "traceback": [
      "\u001b[1;31m---------------------------------------------------------------------------\u001b[0m",
      "\u001b[1;31mRuntimeError\u001b[0m                              Traceback (most recent call last)",
      "\u001b[1;32m<ipython-input-42-3ac180410c7e>\u001b[0m in \u001b[0;36m<module>\u001b[1;34m\u001b[0m\n\u001b[0;32m      6\u001b[0m \u001b[1;31m#random under sampling\u001b[0m\u001b[1;33m\u001b[0m\u001b[1;33m\u001b[0m\u001b[1;33m\u001b[0m\u001b[0m\n\u001b[0;32m      7\u001b[0m \u001b[0mRandomUnderSampler\u001b[0m\u001b[1;33m(\u001b[0m\u001b[1;33m)\u001b[0m\u001b[1;33m\u001b[0m\u001b[1;33m\u001b[0m\u001b[0m\n\u001b[1;32m----> 8\u001b[1;33m \u001b[0mX_res\u001b[0m\u001b[1;33m,\u001b[0m \u001b[0my_res\u001b[0m \u001b[1;33m=\u001b[0m \u001b[0mmethod\u001b[0m\u001b[1;33m.\u001b[0m\u001b[0mfit_resample\u001b[0m\u001b[1;33m(\u001b[0m\u001b[0mX\u001b[0m\u001b[1;33m,\u001b[0m \u001b[0my\u001b[0m\u001b[1;33m)\u001b[0m\u001b[1;33m\u001b[0m\u001b[1;33m\u001b[0m\u001b[0m\n\u001b[0m\u001b[0;32m      9\u001b[0m \u001b[0mX\u001b[0m\u001b[1;33m,\u001b[0m \u001b[0my\u001b[0m\u001b[1;33m=\u001b[0m\u001b[0mX_res\u001b[0m\u001b[1;33m,\u001b[0m \u001b[0my_res\u001b[0m\u001b[1;33m\u001b[0m\u001b[1;33m\u001b[0m\u001b[0m\n\u001b[0;32m     10\u001b[0m \u001b[1;33m\u001b[0m\u001b[0m\n",
      "\u001b[1;32m~\\.conda\\envs\\amb_env\\lib\\site-packages\\imblearn\\base.py\u001b[0m in \u001b[0;36mfit_resample\u001b[1;34m(self, X, y)\u001b[0m\n\u001b[0;32m     81\u001b[0m         )\n\u001b[0;32m     82\u001b[0m \u001b[1;33m\u001b[0m\u001b[0m\n\u001b[1;32m---> 83\u001b[1;33m         \u001b[0moutput\u001b[0m \u001b[1;33m=\u001b[0m \u001b[0mself\u001b[0m\u001b[1;33m.\u001b[0m\u001b[0m_fit_resample\u001b[0m\u001b[1;33m(\u001b[0m\u001b[0mX\u001b[0m\u001b[1;33m,\u001b[0m \u001b[0my\u001b[0m\u001b[1;33m)\u001b[0m\u001b[1;33m\u001b[0m\u001b[1;33m\u001b[0m\u001b[0m\n\u001b[0m\u001b[0;32m     84\u001b[0m \u001b[1;33m\u001b[0m\u001b[0m\n\u001b[0;32m     85\u001b[0m         y_ = (label_binarize(output[1], np.unique(y))\n",
      "\u001b[1;32m~\\.conda\\envs\\amb_env\\lib\\site-packages\\imblearn\\over_sampling\\_smote.py\u001b[0m in \u001b[0;36m_fit_resample\u001b[1;34m(self, X, y)\u001b[0m\n\u001b[0;32m   1258\u001b[0m                     \u001b[1;34m\"class {}. Try lowering the cluster_balance_threshold \"\u001b[0m\u001b[1;33m\u001b[0m\u001b[1;33m\u001b[0m\u001b[0m\n\u001b[0;32m   1259\u001b[0m                     \u001b[1;34m\"or increasing the number of \"\u001b[0m\u001b[1;33m\u001b[0m\u001b[1;33m\u001b[0m\u001b[0m\n\u001b[1;32m-> 1260\u001b[1;33m                     \u001b[1;34m\"clusters.\"\u001b[0m\u001b[1;33m.\u001b[0m\u001b[0mformat\u001b[0m\u001b[1;33m(\u001b[0m\u001b[0mclass_sample\u001b[0m\u001b[1;33m)\u001b[0m\u001b[1;33m\u001b[0m\u001b[1;33m\u001b[0m\u001b[0m\n\u001b[0m\u001b[0;32m   1261\u001b[0m                 )\n\u001b[0;32m   1262\u001b[0m \u001b[1;33m\u001b[0m\u001b[0m\n",
      "\u001b[1;31mRuntimeError\u001b[0m: No clusters found with sufficient samples of class 1. Try lowering the cluster_balance_threshold or increasing the number of clusters."
     ]
    }
   ],
   "source": [
    "# build cross validated model for best performing technique\n",
    "# scoring should be recall, as we want to predict the converted.\n",
    "\n",
    "#model chosen: decision tree with random under sampling\n",
    "\n",
    "#random under sampling\n",
    "RandomUnderSampler()\n",
    "X_res, y_res = method.fit_resample(X, y)\n",
    "X, y=X_res, y_res\n",
    "\n",
    "#Final model to predict out of sample with complete dataset, 5-fold CV and recall scoring\n",
    "\n",
    "depth = [1, 2, 3, 4, 5, 6, 7, 8, 9, 10, 12, 13, 14, 15, 16, 17, 18, 19, 20]\n",
    "weight = ['balanced', None]\n",
    "criterion = ['gini', 'entropy']\n",
    "tree_param_grid = {'max_depth': depth, 'class_weight': weight, 'criterion': criterion}\n",
    "\n",
    "tree_grid_search = GridSearchCV(DecisionTreeClassifier(), tree_param_grid, cv=5, scoring='recall',\n",
    "                                return_train_score=True)\n",
    "\n",
    "tree_grid_search.fit(X, y)\n",
    "print(tree_grid_search.best_params_)\n",
    "print(\"Best cross-val score: {:.2f}\".format(tree_grid_search.best_score_))\n",
    "print(\"Best estimator: \\n {}\".format(tree_grid_search.best_estimator_))\n",
    "print(\"Recall on training set: {:.3f}\".format(tree_grid_search.score(X, y)))"
   ]
  },
  {
   "cell_type": "code",
   "execution_count": null,
   "metadata": {},
   "outputs": [],
   "source": []
  }
 ],
 "metadata": {
  "kernelspec": {
   "display_name": "Python 3",
   "language": "python",
   "name": "python3"
  },
  "language_info": {
   "codemirror_mode": {
    "name": "ipython",
    "version": 3
   },
   "file_extension": ".py",
   "mimetype": "text/x-python",
   "name": "python",
   "nbconvert_exporter": "python",
   "pygments_lexer": "ipython3",
   "version": "3.7.6"
  }
 },
 "nbformat": 4,
 "nbformat_minor": 4
}
